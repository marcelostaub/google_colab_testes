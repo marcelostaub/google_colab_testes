{
  "cells": [
    {
      "cell_type": "markdown",
      "metadata": {
        "id": "view-in-github",
        "colab_type": "text"
      },
      "source": [
        "<a href=\"https://colab.research.google.com/github/marcelostaub/google_colab_testes/blob/main/MachineLearning/1_O_que_%C3%A9_Machine_Learning_.ipynb\" target=\"_parent\"><img src=\"https://colab.research.google.com/assets/colab-badge.svg\" alt=\"Open In Colab\"/></a>"
      ]
    },
    {
      "cell_type": "markdown",
      "id": "49e87933",
      "metadata": {
        "id": "49e87933"
      },
      "source": [
        "![alt_text](https://i.pinimg.com/originals/9b/02/78/9b02789921548c95b3eb6190b04b7ca1.jpg)"
      ]
    },
    {
      "cell_type": "markdown",
      "id": "ce08b75f",
      "metadata": {
        "id": "ce08b75f"
      },
      "source": [
        "<br><br>"
      ]
    },
    {
      "cell_type": "markdown",
      "id": "5b5137df",
      "metadata": {
        "id": "5b5137df"
      },
      "source": [
        "<br><br>"
      ]
    },
    {
      "cell_type": "markdown",
      "id": "566678ad",
      "metadata": {
        "id": "566678ad"
      },
      "source": [
        "![alt_text](https://www.import.io/wp-content/uploads/2017/06/Import.io_quote-image2-170525.jpg)"
      ]
    },
    {
      "cell_type": "markdown",
      "id": "892d928d",
      "metadata": {
        "id": "892d928d"
      },
      "source": [
        "# `O que é Machine Learning?`"
      ]
    },
    {
      "cell_type": "markdown",
      "id": "fd1aa022",
      "metadata": {
        "id": "fd1aa022"
      },
      "source": [
        "### Machine learning significa aprendizado de máquina em inglês, e é a capacidade que uma máquina tem de aprender por conta própria utilizando dados já observados, de maneira que consiga tomar decisões a partir desse aprendizado.\n",
        "\n",
        "\n",
        "<br><br>\n",
        "\n",
        "### É uma vertente da inteligência artificial, que é a ciência capaz de mimetizar as habilidades humanas."
      ]
    },
    {
      "cell_type": "markdown",
      "id": "18dc8ca1",
      "metadata": {
        "id": "18dc8ca1"
      },
      "source": [
        "<br><br><br><br><br><br><br><br>"
      ]
    },
    {
      "cell_type": "markdown",
      "id": "420eff7c",
      "metadata": {
        "id": "420eff7c"
      },
      "source": [
        "# `E como Machine Learning funciona?`\n",
        "\n",
        "\n",
        "<br><br><br>\n",
        "\n",
        "### Através de algoritmos!\n",
        "\n",
        "\n",
        "![alt_text](https://media.geeksforgeeks.org/wp-content/cdn-uploads/20191016135223/What-is-Algorithm_-1024x631.jpg)"
      ]
    },
    {
      "cell_type": "markdown",
      "id": "76d4790c",
      "metadata": {
        "id": "76d4790c"
      },
      "source": []
    },
    {
      "cell_type": "markdown",
      "id": "8a51932d",
      "metadata": {
        "id": "8a51932d"
      },
      "source": [
        "### Um algoritmo consiste em um conjunto de intruções para resolver um problema, ou completar uma tarefa, de forma automática. É exatamente assim que Machine Learning funciona, através de algoritmos que recebem os dados, aprendem com ele e automatizam a resolução de problemas de forma inteligente."
      ]
    },
    {
      "cell_type": "markdown",
      "id": "b612f0b7",
      "metadata": {
        "id": "b612f0b7"
      },
      "source": [
        "![alt_text](https://postindustria.com/wp-content/uploads/2022/05/aPPrchMchn-2-1024x518.png)"
      ]
    },
    {
      "cell_type": "markdown",
      "id": "3f19c8de",
      "metadata": {
        "id": "3f19c8de"
      },
      "source": []
    },
    {
      "cell_type": "markdown",
      "id": "5fa2bcf4",
      "metadata": {
        "id": "5fa2bcf4"
      },
      "source": []
    },
    {
      "cell_type": "markdown",
      "id": "c0736fd3",
      "metadata": {
        "id": "c0736fd3"
      },
      "source": []
    },
    {
      "cell_type": "markdown",
      "id": "e2e9e2c1",
      "metadata": {
        "id": "e2e9e2c1"
      },
      "source": [
        "# `E quais são as aplicações de Machine Learning?`"
      ]
    },
    {
      "cell_type": "markdown",
      "id": "d2252faf",
      "metadata": {
        "id": "d2252faf"
      },
      "source": [
        "#### Existem inúmeras aplicações de Machine Learning, em todas as áreas de conhecimento e negócio. Por exemplo, a Nasa utiliza aprendizado de máquina para desenvolver robôs que exploram Marte de forma autônoma. Ou seja, quem decide para onde o robô vai, lá em Marte, é o próprio robô, não tem ninguém pilotando ele!\n",
        "\n",
        "\n",
        "![alt_text](https://media.geeksforgeeks.org/wp-content/uploads/20190930115723/Curiosity-Rover-NASA.jpg)"
      ]
    },
    {
      "cell_type": "markdown",
      "id": "fea1a7d6",
      "metadata": {
        "id": "fea1a7d6"
      },
      "source": []
    },
    {
      "cell_type": "markdown",
      "id": "eec1a8ef",
      "metadata": {
        "id": "eec1a8ef"
      },
      "source": []
    },
    {
      "cell_type": "markdown",
      "id": "369b25ab",
      "metadata": {
        "id": "369b25ab"
      },
      "source": []
    },
    {
      "cell_type": "markdown",
      "id": "0051c356",
      "metadata": {
        "id": "0051c356"
      },
      "source": [
        "### Mas nós não precisamos ir tão longe. Hoje, quando você entra na Netflix para assistir sua série, toda a página inicial é personalizada para você, baseada no seu histórico de consumo. Ou seja, são algoritmos de Machine Learning que usam os seus dados de consumo, aprendem com ele e decidem qual título você mais vai gostar. Pode reparar que a sua página inicial é bem diferente da página inicial do seu amigo."
      ]
    },
    {
      "cell_type": "markdown",
      "id": "aa631a76",
      "metadata": {
        "id": "aa631a76"
      },
      "source": [
        "![alt_text](https://cdn.mobilesyrup.com/wp-content/uploads/2018/04/netflix-reco-4.jpg)"
      ]
    },
    {
      "cell_type": "markdown",
      "id": "1346c0b8",
      "metadata": {
        "id": "1346c0b8"
      },
      "source": []
    },
    {
      "cell_type": "markdown",
      "id": "b5db8df4",
      "metadata": {
        "id": "b5db8df4"
      },
      "source": []
    },
    {
      "cell_type": "markdown",
      "id": "bb2673d5",
      "metadata": {
        "id": "bb2673d5"
      },
      "source": []
    },
    {
      "cell_type": "markdown",
      "id": "c3305c2b",
      "metadata": {
        "id": "c3305c2b"
      },
      "source": [
        "## As aplicações são infinitas! Vamos ver mais exemplos nas próximas aulas :)"
      ]
    }
  ],
  "metadata": {
    "kernelspec": {
      "display_name": "Python 3 (ipykernel)",
      "language": "python",
      "name": "python3"
    },
    "language_info": {
      "codemirror_mode": {
        "name": "ipython",
        "version": 3
      },
      "file_extension": ".py",
      "mimetype": "text/x-python",
      "name": "python",
      "nbconvert_exporter": "python",
      "pygments_lexer": "ipython3",
      "version": "3.8.9"
    },
    "colab": {
      "provenance": [],
      "include_colab_link": true
    }
  },
  "nbformat": 4,
  "nbformat_minor": 5
}